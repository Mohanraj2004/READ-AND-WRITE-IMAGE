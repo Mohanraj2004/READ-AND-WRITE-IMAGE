{
 "cells": [
  {
   "cell_type": "code",
   "execution_count": 1,
   "id": "2de757e3-68df-499a-b94c-233e7e8e6911",
   "metadata": {},
   "outputs": [],
   "source": [
    "import numpy as np\n",
    "import cv2\n",
    "import random"
   ]
  },
  {
   "cell_type": "code",
   "execution_count": 2,
   "id": "053e40b1-c413-4daa-9b37-c81f22e3d1b0",
   "metadata": {},
   "outputs": [],
   "source": [
    "# To read and display the image\n",
    "image=cv2.imread(\"leo.jpg\",1)\n",
    "cv2.imshow(\"Output Image\",image)  \n",
    "cv2.waitKey(0)\n",
    "cv2.destroyAllWindows()"
   ]
  },
  {
   "cell_type": "code",
   "execution_count": 3,
   "id": "7c16a987-b3de-45a8-9c03-e00949563629",
   "metadata": {},
   "outputs": [
    {
     "data": {
      "text/plain": [
       "True"
      ]
     },
     "execution_count": 3,
     "metadata": {},
     "output_type": "execute_result"
    }
   ],
   "source": [
    "# To write the image\n",
    "cv2.imwrite(\"output.jpg\",image)"
   ]
  },
  {
   "cell_type": "code",
   "execution_count": 4,
   "id": "10dee1f2-448d-4d47-ad90-21ea5d315b4e",
   "metadata": {},
   "outputs": [
    {
     "name": "stdout",
     "output_type": "stream",
     "text": [
      "(480, 640, 3)\n"
     ]
    }
   ],
   "source": [
    "# To find the shape\n",
    "print(image.shape)"
   ]
  },
  {
   "cell_type": "code",
   "execution_count": 5,
   "id": "9b0be4f5-41cb-4e1e-9fca-5561fa91d164",
   "metadata": {},
   "outputs": [],
   "source": [
    "# To access rows and columns\n",
    "for i in range(150):\n",
    "    for j in range(image.shape[1]):\n",
    "        image[i][j] = [random.randint(0,255),random.randint(0,255),random.randint(0,255)]\n",
    "cv2.imshow(\"R_n_C\", image)\n",
    "cv2.waitKey(0)\n",
    "cv2.destroyAllWindows()"
   ]
  },
  {
   "cell_type": "code",
   "execution_count": 6,
   "id": "5c9e9973-1c83-466a-95af-62719f1597e8",
   "metadata": {},
   "outputs": [],
   "source": [
    "new = image[200:450, 200:450]\n",
    "image[150:400, 150:400] = new\n",
    "cv2.imshow(\"Cut\", image)\n",
    "cv2.waitKey(0)\n",
    "cv2.destroyAllWindows()"
   ]
  }
 ],
 "metadata": {
  "kernelspec": {
   "display_name": "Python 3 (ipykernel)",
   "language": "python",
   "name": "python3"
  },
  "language_info": {
   "codemirror_mode": {
    "name": "ipython",
    "version": 3
   },
   "file_extension": ".py",
   "mimetype": "text/x-python",
   "name": "python",
   "nbconvert_exporter": "python",
   "pygments_lexer": "ipython3",
   "version": "3.9.13"
  }
 },
 "nbformat": 4,
 "nbformat_minor": 5
}
